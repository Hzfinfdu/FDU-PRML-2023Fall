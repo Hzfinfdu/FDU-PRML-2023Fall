{
 "cells": [
  {
   "cell_type": "markdown",
   "metadata": {},
   "source": [
    "# Exercise 1\n",
    "\n",
    "In this exercise we are going to learn in practice how Polynomial Linear Regression works.\n",
    "\n",
    "Before running the following code blocks, please first run\n",
    "\n",
    "```bash\n",
    "pip install numpy\n",
    "pip install matplotlib\n",
    "pip install -U scikit-learn\n",
    "```"
   ]
  },
  {
   "cell_type": "code",
   "execution_count": 1,
   "metadata": {},
   "outputs": [],
   "source": [
    "import numpy as np\n",
    "\n",
    "np.random.seed(42)"
   ]
  },
  {
   "cell_type": "markdown",
   "metadata": {},
   "source": [
    "## Plotting Utils\n",
    "\n",
    "Plotting is quite important in machine learning which helps us quickly get intuition from enormous data points and gain intuition. Plus they also do good to your illustration. Matplotlib is one of the most commonly used plotting libraries in python. \n",
    "\n",
    "Seaborn, Nineplot and Plotly are also powerful and it's important to master at least one of them. "
   ]
  },
  {
   "cell_type": "code",
   "execution_count": 2,
   "metadata": {},
   "outputs": [],
   "source": [
    "%matplotlib inline\n",
    "from matplotlib import pyplot as plt\n",
    "from matplotlib import rc"
   ]
  },
  {
   "cell_type": "markdown",
   "metadata": {},
   "source": [
    "## Creating Toy Data\n",
    "\n",
    "We have prepared the toy data for you. But do not just skip this part! Skim through it and think:\n",
    "\n",
    "- Why are we declaring a known function and add random noise to samples from it? What are the practical counterparts of them?\n",
    "\n",
    "- Why do we choose Gaussian distribution as the noise instead of the other distributions?"
   ]
  },
  {
   "cell_type": "code",
   "execution_count": 3,
   "metadata": {},
   "outputs": [],
   "source": [
    "import math\n",
    "\n",
    "# sin\n",
    "def sin(x):\n",
    "    y = np.sin(2 * math.pi * x)\n",
    "    return y"
   ]
  },
  {
   "cell_type": "code",
   "execution_count": 4,
   "metadata": {},
   "outputs": [],
   "source": [
    "def create_toy_data(func, interval, sample_num, noise = 0.0, add_outlier = False, outlier_ratio = 0.001):\n",
    "    \"\"\"\n",
    "    generate data with the given function\n",
    "    \n",
    "    input:\n",
    "       - func: the input function\n",
    "       - interval: the range of values of x, a tuple (start, end)\n",
    "       - sample_num: number of samples\n",
    "       - noise: the standard deviation of Gaussian noise\n",
    "       - add_outlier: whether to generate outliers\n",
    "       - outlier_ratio: proportion of outliers\n",
    "       \n",
    "    output:\n",
    "       - X: samples, shape = [n_samples,1]\n",
    "       - y: labels, shape = [n_samples,1]\n",
    "    \"\"\"\n",
    "    \n",
    "    X = np.random.rand(sample_num,1) * (interval[1]-interval[0]) + interval[0]\n",
    "    y = func(X)\n",
    "\n",
    "    # add Gaussian noise\n",
    "    epsilon = np.random.normal(0, noise, (sample_num,1))\n",
    "    y = y + epsilon\n",
    "    \n",
    "    # add outlier\n",
    "    if add_outlier:\n",
    "        outlier_num = int(sample_num * outlier_ratio)\n",
    "        if outlier_num != 0:\n",
    "            outlier_idx = np.random.randint(sample_num, size = [outlier_num,1])\n",
    "            y[outlier_idx] = y[outlier_idx] * 5\n",
    "            \n",
    "    return X, y"
   ]
  },
  {
   "cell_type": "markdown",
   "metadata": {},
   "source": [
    "The black line in the following figure stands for the underlying data distribution, circles for trainig data and triangles for test data."
   ]
  },
  {
   "cell_type": "code",
   "execution_count": 5,
   "metadata": {},
   "outputs": [
    {
     "data": {
      "image/png": "[encoded data removed]",
      "text/plain": [
       "<Figure size 576x432 with 1 Axes>"
      ]
     },
     "metadata": {
      "needs_background": "light"
     },
     "output_type": "display_data"
    }
   ],
   "source": [
    "func = sin\n",
    "interval = (0,1)\n",
    "train_num = 15\n",
    "test_num = 10\n",
    "noise = 0.2\n",
    "X_train, y_train = create_toy_data(func=func, interval=interval, sample_num=train_num, noise=noise)\n",
    "X_test, y_test = create_toy_data(func=func, interval=interval, sample_num=test_num, noise=noise)\n",
    "\n",
    "X_underlying = np.linspace(interval[0],interval[1],num=100)\n",
    "y_underlying = sin(X_underlying)\n",
    "\n",
    "# plot\n",
    "\"\"\"_summary_ draw the plot of the underlying function and the training and test data\"\"\"\n",
    "rc('font', family='times new roman')\n",
    "plt.rcParams['figure.figsize'] = (8.0, 6.0)\n",
    "plt.plot(X_underlying, y_underlying, c='#000000', label=r\"$\\sin(2\\pi x)$\")\n",
    "plt.scatter(X_train, y_train, facecolor=\"none\", edgecolor='#e4007f', s=50, label=\"train data\")\n",
    "plt.scatter(X_test, y_test, facecolor=\"none\", edgecolor=\"r\", marker = '^', s=50, label=\"test data\")\n",
    "plt.legend(fontsize='x-large')\n",
    "plt.show()"
   ]
  },
  {
   "cell_type": "markdown",
   "metadata": {},
   "source": [
    "## Using Sklearn for Polynomial Linear Regression\n",
    "\n",
    "Sklearn is a commonly used machine learning library. Now we are going to learn the basics of it and fo some exploratory experiments.\n",
    "\n",
    "### Polynomial Features\n",
    "\n",
    "Sklearn has implemented for us how we change a scalar feature to a polynomial vector feature.\n",
    "\n",
    "**Try predicting the output of the following cell and check your answer.**"
   ]
  },
  {
   "cell_type": "code",
   "execution_count": 6,
   "metadata": {},
   "outputs": [
    {
     "name": "stdout",
     "output_type": "stream",
     "text": [
      "[[1. 1. 1. 1.]\n",
      " [1. 2. 4. 8.]]\n"
     ]
    }
   ],
   "source": [
    "from sklearn.preprocessing import PolynomialFeatures\n",
    "\n",
    "poly = PolynomialFeatures(degree=3)\n",
    "\n",
    "print(poly.fit_transform(np.array([[1],[2]])))\n",
    "\n",
    "# We are using the PolynomialFeatures class from sklearn.preprocessing to generate the polynomial features.\n",
    "# We have set the polynomial degree to 3. So what do you think the output of the above code will be?"
   ]
  },
  {
   "cell_type": "markdown",
   "metadata": {},
   "source": [
    "Possible pitfall: an $x^0$ term is always included in the feature, which is called bias. So the dimension of transformed feature is 4.\n",
    "\n",
    "### Fitting the data above\n",
    "\n",
    "Now let's dive into the sinusoidal data fitting task above."
   ]
  },
  {
   "cell_type": "code",
   "execution_count": 7,
   "metadata": {},
   "outputs": [
    {
     "data": {
      "image/png": "[encoded data removed]",
      "text/plain": [
       "<Figure size 576x432 with 1 Axes>"
      ]
     },
     "metadata": {
      "needs_background": "light"
     },
     "output_type": "display_data"
    }
   ],
   "source": [
    "def visualize_poly_model(model, degree, X_test, y_test, y_pre):\n",
    "    # plot\n",
    "    X_underlying_model = np.linspace(interval[0],interval[1],num=100)\n",
    "    y_underlying_model = model.predict(poly.fit_transform(X_underlying_model.reshape(-1,1)))\n",
    "        \n",
    "    plt.plot(X_underlying_model, y_underlying_model, c='#000000', label=\"model with degree =\" + str(degree))\n",
    "    rc('font', family='times new roman')\n",
    "    plt.rcParams['figure.figsize'] = (8.0, 6.0)\n",
    "    plt.scatter(X_test, y_test, facecolor=\"none\", edgecolor='#e4007f', s=50, label=\"train data\")\n",
    "    plt.scatter(X_test, y_pre, facecolor=\"none\", edgecolor=\"r\", marker = '^', s=50, label=\"predicted y\")\n",
    "    plt.title(\"Polynomial Regression with degree = \" + str(degree))\n",
    "    plt.xlabel(\"x\")\n",
    "    plt.ylabel(\"y\")\n",
    "    plt.legend(fontsize='x-large')\n",
    "    plt.show()\n",
    "\n",
    "\n",
    "from sklearn.linear_model import LinearRegression\n",
    "\n",
    "degree = 0\n",
    "\n",
    "poly = PolynomialFeatures(degree=degree)\n",
    "X_train_poly = poly.fit_transform(X_train)\n",
    "\n",
    "model = LinearRegression()\n",
    "model.fit(X_train_poly, y_train)\n",
    "\n",
    "y_pre = model.predict(poly.fit_transform(X_test))\n",
    "visualize_poly_model(model, degree, X_test, y_test, y_pre)"
   ]
  },
  {
   "cell_type": "markdown",
   "metadata": {},
   "source": [
    "Now we want to figure out the following questions:\n",
    "\n",
    "- How do we quantitate the quality of the fitted model? Try different degrees. Can you write a function to quantitatively figure out which degree is the optimal in the setting above? **Concretely, we need to manually write down the MSE loss function and analysis(or plotting) how test loss goes up as degree goes up?**\n",
    "\n",
    "- What do you observe when degree goes large? What is this phenomenon called?\n",
    "\n",
    "Say now I want you to fix the degree to 10 and still get a model rather close to the best model you get above.\n",
    "\n",
    "- Can you try to implement two different methods, namely adding datapoints and regularization? **Try fitting new models using the two basic techniques.**\n",
    "\n",
    "Some necessary materials:\n",
    "\n",
    "https://scikit-learn.org/stable/modules/generated/sklearn.linear_model.Ridge.html#sklearn.linear_model.Ridge"
   ]
  },
  {
   "cell_type": "markdown",
   "metadata": {},
   "source": []
  }
 ],
 "metadata": {
  "kernelspec": {
   "display_name": "visualization",
   "language": "python",
   "name": "python3"
  },
  "language_info": {
   "codemirror_mode": {
    "name": "ipython",
    "version": 3
   },
   "file_extension": ".py",
   "mimetype": "text/x-python",
   "name": "python",
   "nbconvert_exporter": "python",
   "pygments_lexer": "ipython3",
   "version": "3.9.7"
  },
  "orig_nbformat": 4
 },
 "nbformat": 4,
 "nbformat_minor": 2
}
