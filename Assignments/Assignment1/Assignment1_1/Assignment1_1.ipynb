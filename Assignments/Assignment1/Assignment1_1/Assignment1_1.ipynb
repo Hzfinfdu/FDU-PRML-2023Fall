{
 "cells": [
  {
   "cell_type": "markdown",
   "source": [
    "# FDU PRML 2023 Fall Assignment 1.1\n",
    "\n",
    "Name: <your name>\n",
    "\n",
    "Student ID: <your student id>\n",
    "\n",
    "<font color='red'>**Deadline: 2023-09-25 23:59**</font>\n",
    "\n",
    "<font color='red'>**Overall score weight: 40/100**</font>\n",
    "\n",
    "In this semester, we are going to complete 3 assignments, each may contain **2-3 parts**. This is the first part of the first assignment, in which we aim to gain deeper understanding of some Machine Learning topics such as optimization and generalization. Besides, we are going to solve some real-world problems using the knowledge we have learned in class, namely Logitstic Regression, K-Nearest Neighbors and Decision Trees.\n",
    "\n",
    "Before running the following code blocks, please first run\n",
    "```\n",
    "pip install numpy\n",
    "pip install matplotlib\n",
    "pip install -U scikit-learn\n",
    "```"
   ],
   "metadata": {
    "collapsed": false
   },
   "id": "e048c79e2376163"
  },
  {
   "cell_type": "code",
   "execution_count": null,
   "outputs": [],
   "source": [
    "# Basic imports\n",
    "import numpy as np\n",
    "import random\n",
    "import matplotlib.pyplot as plt\n",
    "from matplotlib import rc\n",
    "import sklearn\n",
    "\n",
    "np.random.seed(42)\n",
    "random.seed(42)"
   ],
   "metadata": {
    "collapsed": false
   },
   "id": "9d3da145cacaf10f"
  },
  {
   "cell_type": "markdown",
   "source": [
    "## 1. Understanding Optimization and Generalization (10 points)\n",
    "\n",
    "Consider the examples in Exercise 1. Try to draw plots to answer the following questions:\n",
    "\n",
    "- Draw a plot of how training error and test error vary with the polynomial degree $d$. In which part of the plot do we call underfit? Which part overfit?\n",
    "\n",
    "- Use Ridge Regression (L2-Regularized Linear Regression) to fit the data with fixed degree of $d = 10$. Draw a plot of how training error and test error vary with the regularization parameter $\\lambda$. In which part of the plot do we call \"Underregularization\"? Which part \"Overregularization\"?"
   ],
   "metadata": {
    "collapsed": false
   },
   "id": "e47e7ada66fddff"
  },
  {
   "cell_type": "code",
   "execution_count": null,
   "outputs": [],
   "source": [],
   "metadata": {
    "collapsed": false
   },
   "id": "cb995a0055d26f5b"
  },
  {
   "cell_type": "markdown",
   "source": [
    "## 2. Machine Learning with Tabular Data (30 points) \n",
    "\n",
    "Now we are about to face the real-world challenges with [Sklearn](https://scikit-learn.org/stable/#). In this section, we are going to solve a binary classification problem using the following three methods:\n",
    "\n",
    "- Logistic Regression\n",
    "\n",
    "- K-Nearest Neighbors\n",
    "\n",
    "- Decision Trees\n",
    "\n",
    "### 2.1 Dataset\n",
    "\n",
    "We use a publicly available dataset about water potability from Kaggle. For each row in the datasets, there are some characteristics of a sampled bottle of water. Your task is to build a machine learning model to predict whether the water is safe to drink based on these features.\n",
    "\n",
    "pH: The pH level of the water.\n",
    "\n",
    "Hardness: Water hardness, a measure of mineral content.\n",
    "\n",
    "Solids: Total dissolved solids in the water.\n",
    "\n",
    "Chloramines: Chloramines concentration in the water.\n",
    "\n",
    "Sulfate: Sulfate concentration in the water.\n",
    "\n",
    "Conductivity: Electrical conductivity of the water.\n",
    "\n",
    "Organic_carbon: Organic carbon content in the water.\n",
    "\n",
    "Trihalomethanes: Trihalomethanes concentration in the water.\n",
    "\n",
    "Turbidity: Turbidity level, a measure of water clarity.\n",
    "\n",
    "Potability: Target variable; indicates water potability with values 1 (potable) and 0 (not potable).\n",
    "\n",
    "### 2.2 Exploratory Data Analysis (5 points)\n",
    "\n",
    "Before we start to build our machine learning models, we need to first understand the dataset. The datasets are somehow corrupted with some missing entries **filled with -1**. We need to first process the data before we start to build our models.\n",
    "\n",
    "So how do we treat the corrupted data? In this part, we **simply remove the corrupted rows or colomns** (only part of the columns are corrupted). Be simple in this part and improve your solution in the `Exploration` part."
   ],
   "metadata": {
    "collapsed": false
   },
   "id": "d2a496395cc06dd4"
  },
  {
   "cell_type": "code",
   "execution_count": null,
   "outputs": [],
   "source": [],
   "metadata": {
    "collapsed": false
   },
   "id": "32e6d49df7290b1f"
  },
  {
   "cell_type": "markdown",
   "source": [
    "### 2.3 Build your baselines\n",
    "\n",
    "In this section, we will use sklearn to build our baseline models with kNN, decision tree, and logistic regression.\n",
    "\n",
    "You may need to build the validation set yourself.\n",
    "\n",
    "You can test whether your model can fit a few samples first, and then test on the full dataset.\n",
    "\n",
    "You may need to test the speed of the vectorized implementation of several algorithms.\n",
    "\n",
    "Visualization is encouraged.\n",
    "\n",
    "Please follow standard machine learning procedures, i.e. you CANNOT use the test set at any time to tune the parameters of the model."
   ],
   "metadata": {
    "collapsed": false
   },
   "id": "c64b01104f6fd20d"
  },
  {
   "cell_type": "code",
   "execution_count": null,
   "outputs": [],
   "source": [],
   "metadata": {
    "collapsed": false
   },
   "id": "91ea8e2dd3483cc7"
  },
  {
   "cell_type": "markdown",
   "source": [
    "#### 2.3.1 kNN (5 points)"
   ],
   "metadata": {
    "collapsed": false
   },
   "id": "104e2ff429070cba"
  },
  {
   "cell_type": "code",
   "execution_count": null,
   "outputs": [],
   "source": [],
   "metadata": {
    "collapsed": false
   },
   "id": "2f31f6861f9aaabd"
  },
  {
   "cell_type": "markdown",
   "source": [
    "#### 2.3.2 Decision Tree (5 points)"
   ],
   "metadata": {
    "collapsed": false
   },
   "id": "fc1fabc4b8a7c357"
  },
  {
   "cell_type": "code",
   "execution_count": null,
   "outputs": [],
   "source": [],
   "metadata": {
    "collapsed": false
   },
   "id": "49e228344645dcaf"
  },
  {
   "cell_type": "code",
   "execution_count": null,
   "outputs": [],
   "source": [],
   "metadata": {
    "collapsed": false
   },
   "id": "ab7ad9e2f2d07cf7"
  },
  {
   "cell_type": "markdown",
   "source": [
    "#### 2.3.3 Logistic Regression (5 points)"
   ],
   "metadata": {
    "collapsed": false
   },
   "id": "137cd469bffe6c7c"
  },
  {
   "cell_type": "code",
   "execution_count": null,
   "outputs": [],
   "source": [],
   "metadata": {
    "collapsed": false
   },
   "id": "272acb948c209b65"
  },
  {
   "cell_type": "markdown",
   "source": [
    "### 2.4 Exploration (10 points)\n",
    "\n",
    "Now that you have built your baselines, you need to improve your solution. You can do more processing on the data, improve the model, adjust the evaluation indicators, and so on. You can explore and analyze as much as you can below."
   ],
   "metadata": {
    "collapsed": false
   },
   "id": "68f77003c17b67c6"
  },
  {
   "cell_type": "code",
   "execution_count": 68,
   "outputs": [],
   "source": [],
   "metadata": {
    "collapsed": false,
    "ExecuteTime": {
     "end_time": "2023-09-18T09:49:29.762661Z",
     "start_time": "2023-09-18T09:49:29.730233Z"
    }
   },
   "id": "ec6e186071e671c"
  },
  {
   "cell_type": "markdown",
   "source": [
    "### 2.5 Conclusions\n",
    "\n",
    "Write your conclusions here."
   ],
   "metadata": {
    "collapsed": false
   },
   "id": "81d985c6f8ab6cba"
  }
 ],
 "metadata": {
  "kernelspec": {
   "display_name": "Python 3",
   "language": "python",
   "name": "python3"
  },
  "language_info": {
   "codemirror_mode": {
    "name": "ipython",
    "version": 2
   },
   "file_extension": ".py",
   "mimetype": "text/x-python",
   "name": "python",
   "nbconvert_exporter": "python",
   "pygments_lexer": "ipython2",
   "version": "2.7.6"
  }
 },
 "nbformat": 4,
 "nbformat_minor": 5
}
