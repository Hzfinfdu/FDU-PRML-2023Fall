{
 "cells": [
  {
   "cell_type": "markdown",
   "source": [
    "# FDU PRML 2023 Fall Assignment 1.2\n",
    "\n",
    "Name: <your name>\n",
    "\n",
    "Student ID: <your student id>\n",
    "\n",
    "<font color='red'>**Deadline: 2023-10-09 23:59**</font>\n",
    "\n",
    "<font color='red'>**Overall score weight: 60/100**</font>\n",
    "\n",
    "This is the last part of the assignment. Our task is quite simple: implementing your own scikit-learn-like library with `numpy`."
   ],
   "metadata": {
    "collapsed": false
   },
   "id": "faa9e6fb23a5356"
  },
  {
   "cell_type": "code",
   "execution_count": null,
   "outputs": [],
   "source": [
    "# Auto reload external modules, which means you can modify the code of our fduml implementation without restarting the kernel.\n",
    "%load_ext autoreload\n",
    "%autoreload 2"
   ],
   "metadata": {
    "collapsed": false
   },
   "id": "fc42f1d4c0679bec"
  },
  {
   "cell_type": "code",
   "execution_count": null,
   "outputs": [],
   "source": [
    "# Basic imports\n",
    "import numpy as np\n",
    "import random\n",
    "import matplotlib.pyplot as plt\n",
    "from matplotlib import rc\n",
    "import sklearn\n",
    "\n",
    "np.random.seed(42)\n",
    "random.seed(42)"
   ],
   "metadata": {
    "collapsed": false
   },
   "id": "bbac084f253b88a6"
  },
  {
   "cell_type": "markdown",
   "source": [
    "You have to implement several standard regression and classification methods in the ./fduml folder:\n",
    "\n",
    "- Linear Regression (15 points)\n",
    "\n",
    "- kNN Classification (15 points)\n",
    "\n",
    "- DecisionTree Classification (15 points)\n",
    "\n",
    "- Softmax Classification (15 points)\n",
    "\n",
    "We have written most of the code for you already, and you only need to fill in the most essential parts. We have also prepared several test cases for you to check if your code works correctly.\n",
    "\n",
    "Furthermore, you can also test the accuracy of your code by comparing its output with the output of Sklearn."
   ],
   "metadata": {
    "collapsed": false
   },
   "id": "ec7c6a735bfd8359"
  },
  {
   "cell_type": "markdown",
   "source": [
    "## Implement and test (40 points)\n",
    "\n",
    "We have prepared several test cases for you to check if your code works correctly. After you write your own implementation, try the following code for testing."
   ],
   "metadata": {
    "collapsed": false
   },
   "id": "55b847afee6a108d"
  },
  {
   "cell_type": "code",
   "execution_count": null,
   "outputs": [],
   "source": [
    "from fduml import *"
   ],
   "metadata": {
    "collapsed": false
   },
   "id": "5df4695e706b454e"
  },
  {
   "cell_type": "code",
   "execution_count": null,
   "outputs": [],
   "source": [
    "# Test Linear Regression (10 points)\n",
    "\n",
    "from fduml.linear_model.tests.test_linear_reg import test_linear_regression\n",
    "test_linear_regression()"
   ],
   "metadata": {
    "collapsed": false
   },
   "id": "5bfb326e10ed1fb2"
  },
  {
   "cell_type": "code",
   "execution_count": null,
   "outputs": [],
   "source": [
    "# Test Softmax Regression (10 points)\n",
    "\n",
    "from fduml.linear_model.tests.test_softmax import test_softmax\n",
    "test_softmax()"
   ],
   "metadata": {
    "collapsed": false
   },
   "id": "3647c62a396fcb50"
  },
  {
   "cell_type": "code",
   "execution_count": null,
   "outputs": [],
   "source": [
    "# Test kNN Classification (10 points)\n",
    "\n",
    "from fduml.neighbors.tests.test_knn import test_kneighbors_classifier\n",
    "test_kneighbors_classifier()"
   ],
   "metadata": {
    "collapsed": false
   },
   "id": "168c9f83a2834364"
  },
  {
   "cell_type": "code",
   "execution_count": null,
   "outputs": [],
   "source": [
    "# Test DecisionTree Classification (10 points)\n",
    "\n",
    "from fduml.tree.tests.test_decision_tree import test_dt_classification\n",
    "test_dt_classification()"
   ],
   "metadata": {
    "collapsed": false
   },
   "id": "864192717f0f9a52"
  },
  {
   "cell_type": "markdown",
   "source": [
    "## Compare with Sklearn (20 points)\n",
    "\n",
    "Since the interface of our fduml is the same as that of sklearn, you can easily compare the output of your implementation with that of sklearn. In this part, we will try to complete the tasks in nearly the same code as Assignment 1.1, but using our own implementation.\n",
    "\n",
    "In the conclusion part, try to answer the following questions:\n",
    "\n",
    "- Is the accuracy of your implementation the same as that of sklearn? If not, what can be the reason?\n",
    "\n",
    "- Is the running time of your implementation the same as that of sklearn? If not, what can be the reason?\n",
    "\n",
    "- If there is any special thing you want to mention, please write it down.\n",
    "\n",
    "Note that we do not require you to match the accuracy and running time of sklearn (which can be quite difficult), but you should be able to explain the reason if they are different."
   ],
   "metadata": {
    "collapsed": false
   },
   "id": "d865aa4552324124"
  },
  {
   "cell_type": "code",
   "execution_count": null,
   "outputs": [],
   "source": [],
   "metadata": {
    "collapsed": false
   },
   "id": "e7521a793b9a5488"
  },
  {
   "cell_type": "markdown",
   "source": [
    "## Conclusion"
   ],
   "metadata": {
    "collapsed": false
   },
   "id": "499ef0501ed482fb"
  },
  {
   "cell_type": "code",
   "execution_count": null,
   "outputs": [],
   "source": [],
   "metadata": {
    "collapsed": false
   },
   "id": "e816b68f11484697"
  }
 ],
 "metadata": {
  "kernelspec": {
   "display_name": "Python 3",
   "language": "python",
   "name": "python3"
  },
  "language_info": {
   "codemirror_mode": {
    "name": "ipython",
    "version": 2
   },
   "file_extension": ".py",
   "mimetype": "text/x-python",
   "name": "python",
   "nbconvert_exporter": "python",
   "pygments_lexer": "ipython2",
   "version": "2.7.6"
  }
 },
 "nbformat": 4,
 "nbformat_minor": 5
}
